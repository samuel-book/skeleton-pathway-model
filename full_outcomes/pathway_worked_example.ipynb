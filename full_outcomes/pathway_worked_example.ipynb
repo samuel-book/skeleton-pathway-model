{
 "cells": [
  {
   "cell_type": "markdown",
   "id": "bef4be2f-243a-434a-b847-9d9f9f855d08",
   "metadata": {},
   "source": [
    "# Pathway class worked example\n",
    "\n",
    "This notebook shows an example of how the pathway class works."
   ]
  },
  {
   "cell_type": "markdown",
   "id": "d39cf528-dbca-4b87-80c0-280e72ec8771",
   "metadata": {},
   "source": [
    "## Inputs for this notebooks"
   ]
  },
  {
   "cell_type": "code",
   "execution_count": 1,
   "id": "21ff1a65-176e-4b21-afe6-367ed16d323e",
   "metadata": {},
   "outputs": [],
   "source": [
    "import numpy as np\n",
    "import pandas as pd"
   ]
  },
  {
   "cell_type": "code",
   "execution_count": 2,
   "id": "3dc8ae23-753e-46de-8037-9ec5f0064e49",
   "metadata": {},
   "outputs": [],
   "source": [
    "hospital_performance = pd.read_csv('data/hospital_performance_thrombectomy.csv')\n",
    "hospital_performance = hospital_performance.iloc[0]"
   ]
  },
  {
   "cell_type": "code",
   "execution_count": 3,
   "id": "5e3a02fc-19ae-48e4-95f6-7172d566683c",
   "metadata": {},
   "outputs": [],
   "source": [
    "example_results = pd.read_csv('./data/full_outcome_pathway_trial_example_results_for_pathway_worked_example.csv', index_col=0)\n",
    "\n",
    "# Keep only the first 100 patients:\n",
    "example_results = example_results.iloc[0:100]"
   ]
  },
  {
   "cell_type": "markdown",
   "id": "6f7a5ed9-0b07-4432-864f-bca2868ded4a",
   "metadata": {},
   "source": [
    "## Set up the results\n",
    "\n",
    "there are n patients.\n",
    "each are assigned values for each step in the pathway.\n",
    "for example their arrival to scan time.\n",
    "or whether their onset time is known.\n",
    "the distributions of assigned values follow target hospital performance values."
   ]
  },
  {
   "cell_type": "markdown",
   "id": "9b76bc7f-4c66-410d-8267-e2e09363251b",
   "metadata": {},
   "source": [
    "## Is onset time known?\n",
    "\n",
    "generate binomial\n",
    "each patient is independent of all the others\n",
    "so don't guarantee final proportion exa,ctly matches\n",
    "\n",
    "Generate:\n",
    "+ whether each patient has a known onset time\n",
    "\n",
    "Method:\n",
    "+ binomial generator. \n",
    "\n",
    "Reference values:\n",
    "+ proportion of all patients with known onset time\n",
    "\n"
   ]
  },
  {
   "cell_type": "code",
   "execution_count": 20,
   "id": "26ed98bc-2942-4255-90c8-427dca63f2f4",
   "metadata": {},
   "outputs": [
    {
     "data": {
      "text/plain": [
       "'59.1%'"
      ]
     },
     "execution_count": 20,
     "metadata": {},
     "output_type": "execute_result"
    }
   ],
   "source": [
    "f\"{hospital_performance['proportion1_of_all_with_onset_known_ivt']:.1%}\""
   ]
  },
  {
   "cell_type": "markdown",
   "id": "e2a4524d-0183-4971-b368-b312e1650920",
   "metadata": {},
   "source": [
    "### Patient grid\n",
    "![](./pathway_worked_example/grid_onset_known.png)\n",
    "\n",
    "### Check: is this on target?\n",
    "![](./pathway_worked_example/binomial_onset_known_ivt.png)"
   ]
  },
  {
   "cell_type": "markdown",
   "id": "bb395a44-f656-4f11-8b1b-e1d7e0189e6b",
   "metadata": {},
   "source": [
    "## Sample onset to arrival time\n",
    "\n",
    "Generate:\n",
    "+ separate onset to arrival time for each patient with known onset time\n",
    "\n",
    "Method:\n",
    "+ lognorm number generator `np.random.lognorm`\n",
    "+ fudge times above the time limit. Expected number of patients arriving after the limit is generated using `np.random.binomial`.\n",
    "+ Times are generated for the MT μ and σ \n",
    "\n",
    "Reference values:\n",
    "+ For generation: target hospital performance μ and σ for onset to arrival times within the MT limit\n",
    "+ For fudge: proportion of subgroup of patients that have known onset time that arrive within the MT limit\n",
    "+ For checking only: target hospital performance μ and σ for onset to arrival times within the IVT limit\n"
   ]
  },
  {
   "cell_type": "code",
   "execution_count": 29,
   "id": "9d05e42b-9e47-4e96-905e-05827e94d7e1",
   "metadata": {},
   "outputs": [
    {
     "name": "stdout",
     "output_type": "stream",
     "text": [
      "μ 4.850\n",
      "σ 0.675\n",
      "μ 4.637 - for checking\n",
      "σ 0.552 - for checking\n"
     ]
    }
   ],
   "source": [
    "print(f\"μ {hospital_performance['lognorm_mu_onset_arrival_mins_mt']:.3f}\")\n",
    "print(f\"σ {hospital_performance['lognorm_sigma_onset_arrival_mins_mt']:.3f}\")"
   ]
  },
  {
   "cell_type": "code",
   "execution_count": 27,
   "id": "9a78a1e6-d7e1-4e26-b623-f723685ae4f5",
   "metadata": {},
   "outputs": [
    {
     "data": {
      "text/plain": [
       "'83.2%'"
      ]
     },
     "execution_count": 27,
     "metadata": {},
     "output_type": "execute_result"
    }
   ],
   "source": [
    "f\"{hospital_performance['proportion2_of_mask1_with_onset_to_arrival_on_time_mt']:.1%}\""
   ]
  },
  {
   "cell_type": "code",
   "execution_count": 30,
   "id": "633cad41-643b-4335-8fd3-3bdcefcbe4b7",
   "metadata": {},
   "outputs": [
    {
     "name": "stdout",
     "output_type": "stream",
     "text": [
      "μ 4.637 - for checking\n",
      "σ 0.552 - for checking\n"
     ]
    }
   ],
   "source": [
    "print(f\"μ {hospital_performance['lognorm_mu_onset_arrival_mins_ivt']:.3f} - for checking\")\n",
    "print(f\"σ {hospital_performance['lognorm_sigma_onset_arrival_mins_ivt']:.3f} - for checking\")"
   ]
  },
  {
   "cell_type": "markdown",
   "id": "a67eb9a9-a6ea-49b8-be08-17e259962f03",
   "metadata": {},
   "source": [
    "### Generated time distributions\n",
    "![](./pathway_worked_example/time_dist_onset_to_arrival.png)\n",
    "\n",
    "### Patient grid\n",
    "![](./pathway_worked_example/grid_onset_times.png)\n",
    "\n",
    "### Check: is this on target?\n",
    "![](./pathway_worked_example/binomial_onset_to_arrival_ivt.png)\n",
    "![](./pathway_worked_example/binomial_onset_to_arrival_mt.png)"
   ]
  },
  {
   "cell_type": "markdown",
   "id": "b2f963e7-a3fe-4957-9b2c-d4c3dc2e45b2",
   "metadata": {},
   "source": [
    "## Sample arrival to scan time\n",
    "\n",
    "Generate:\n",
    "+ separate arrival to scan time for each patient\n",
    "\n",
    "Method:\n",
    "+ lognorm number generator `np.random.lognorm`\n",
    "+ Times are generated in three batches with separate sanity checks:\n",
    "  + for patients arriving before the IVT limit, use the μ and σ for IVT\n",
    "  + for patients arriving before the MT limit, use the μ and σ for MT\n",
    "  + for patients arriving after the MT limit, also use the μ and σ for MT\n",
    "+ fudge times above the time limit. Expected number of patients arriving after the limit is generated using `np.random.binomial`.\n",
    "\n",
    "Reference values:\n",
    "+ target hospital performance μ and σ for arrival to scan times within the MT limit\n",
    "+ target hospital performance μ and σ for onset to arrival times within the IVT limit\n",
    "+ for fudge: proportion of subgroup of patients that have known onset time that arrive within the IVT limit\n",
    "+ for fudge: proportion of subgroup of patients that have known onset time that arrive within the MT limit"
   ]
  },
  {
   "cell_type": "code",
   "execution_count": 31,
   "id": "d484baa3-3be4-4b9c-bbd1-535ba887a917",
   "metadata": {},
   "outputs": [
    {
     "name": "stdout",
     "output_type": "stream",
     "text": [
      "μ 3.661\n",
      "σ 0.704\n",
      "μ 3.804\n",
      "σ 0.820\n"
     ]
    }
   ],
   "source": [
    "print(f\"μ {hospital_performance['lognorm_mu_arrival_scan_arrival_mins_ivt']:.3f}\")\n",
    "print(f\"σ {hospital_performance['lognorm_sigma_arrival_scan_arrival_mins_ivt']:.3f}\")\n",
    "print(f\"μ {hospital_performance['lognorm_mu_arrival_scan_arrival_mins_mt']:.3f}\")\n",
    "print(f\"σ {hospital_performance['lognorm_sigma_arrival_scan_arrival_mins_mt']:.3f}\")"
   ]
  },
  {
   "cell_type": "code",
   "execution_count": 32,
   "id": "c6cf36c0-543e-42b5-baf5-0012ce5c9134",
   "metadata": {},
   "outputs": [
    {
     "name": "stdout",
     "output_type": "stream",
     "text": [
      "94.9%\n",
      "98.1%\n"
     ]
    }
   ],
   "source": [
    "print(f\"{hospital_performance['proportion3_of_mask2_with_arrival_to_scan_on_time_ivt']:.1%}\")\n",
    "print(f\"{hospital_performance['proportion3_of_mask2_with_arrival_to_scan_on_time_mt']:.1%}\")"
   ]
  },
  {
   "cell_type": "markdown",
   "id": "f655b825-0fe7-4f5e-a1fb-a716f3ed7016",
   "metadata": {},
   "source": [
    "### Generated time distributions\n",
    "![](./pathway_worked_example/time_dist_arrival_to_scan.png)\n",
    "\n",
    "### Patient grid\n",
    "![](./pathway_worked_example/grid_arrival_to_scan_times.png)\n",
    "\n",
    "### Check: is this on target?\n",
    "![](./pathway_worked_example/binomial_arrival_scan_ivt.png)\n",
    "![](./pathway_worked_example/binomial_arrival_scan_mt.png)"
   ]
  },
  {
   "cell_type": "markdown",
   "id": "003bcfe4-a265-4fc2-b75e-bc99061acbac",
   "metadata": {},
   "source": [
    "## Combine results to find onset to scan time\n",
    "\n",
    "Onset to scan time is simply the sum of the onset to arrival and arrival to scan times. Patients with unknown onset times are also given an unknown onset to scan time.\n",
    "\n",
    "### Combined times\n",
    "n.b. this shouldn't necessary follow a lognorm distribution but one has been plotted anyway for reference.\n",
    "![](./pathway_worked_example/time_dist_onset_to_scan.png)\n",
    "\n",
    "### Patient grid\n",
    "![](./pathway_worked_example/grid_onset_to_scan_times.png)\n",
    "\n",
    "### Check: is this on target?\n",
    "![](./pathway_worked_example/binomial_onset_scan_ivt.png)\n",
    "![](./pathway_worked_example/binomial_onset_scan_mt.png)"
   ]
  },
  {
   "cell_type": "markdown",
   "id": "d0e8ef2d-7224-4fc8-99ce-56f36a31968d",
   "metadata": {},
   "source": [
    "## Is there enough time for treatment?\n",
    "\n",
    "compare onset to scan time with treatment time limits.\n",
    "\n",
    "Reference values:\n",
    "+ Time limits for treatment with IVT: set to 4hr 30min with 15min allowed overrun\n",
    "+ Time limits for treatment with MT: set to 8hr 00min with 15min allowed overrun\n",
    "+ Proportions of patients with enough time to treat with IVT and with MT"
   ]
  },
  {
   "cell_type": "code",
   "execution_count": 35,
   "id": "2d7396d5-ca2e-4d93-b4f2-28c51e3a5ee3",
   "metadata": {},
   "outputs": [
    {
     "name": "stdout",
     "output_type": "stream",
     "text": [
      "100.0%\n",
      "99.4%\n"
     ]
    }
   ],
   "source": [
    "print(f\"{hospital_performance['proportion5_of_mask4_with_enough_time_to_treat_ivt']:.1%}\")\n",
    "print(f\"{hospital_performance['proportion5_of_mask4_with_enough_time_to_treat_mt']:.1%}\")"
   ]
  },
  {
   "cell_type": "markdown",
   "id": "d51849f0-829d-47f2-a788-846701467351",
   "metadata": {},
   "source": [
    "### Patient array\n",
    "![](./pathway_worked_example/grid_time_for_treatment.png)\n",
    "\n",
    "### Check: is this on target?\n",
    "![](./pathway_worked_example/binomial_time_for_ivt.png)\n",
    "![](./pathway_worked_example/binomial_time_for_mt.png)"
   ]
  },
  {
   "cell_type": "markdown",
   "id": "11770485-26f9-4add-84f1-afb2fd676d7b",
   "metadata": {},
   "source": [
    "## Decide whether thrombolysis is given\n",
    "\n",
    "of the ones who have enough time to be treated, \n",
    "\n",
    "binomial generate whether treated\n",
    "\n",
    "\n",
    "Generate:\n",
    "+ whether each patient with enough time left for IVT is chosen for IVT\n",
    "\n",
    "Method:\n",
    "+ binomial generator. \n",
    "\n",
    "Reference values:\n",
    "+ proportion of patients with enough time left for IVT who are chosen for IVT"
   ]
  },
  {
   "cell_type": "code",
   "execution_count": 36,
   "id": "1dea11aa-00f2-4474-bcb2-f2c091078401",
   "metadata": {},
   "outputs": [
    {
     "data": {
      "text/plain": [
       "'42.7%'"
      ]
     },
     "execution_count": 36,
     "metadata": {},
     "output_type": "execute_result"
    }
   ],
   "source": [
    "f\"{hospital_performance['proportion6_of_mask5_with_treated_ivt']:.1%}\""
   ]
  },
  {
   "cell_type": "markdown",
   "id": "eefe0701-576c-4f9b-8934-2c4523d21e9e",
   "metadata": {},
   "source": [
    "### Patient grid\n",
    "![](./pathway_worked_example/grid_ivt_chosen.png)\n",
    "\n",
    "### Check: is this on target?\n",
    "![](./pathway_worked_example/binomial_treated_ivt.png)"
   ]
  },
  {
   "cell_type": "markdown",
   "id": "38fb7933-84e9-4ef0-a200-c9266dbcdbb6",
   "metadata": {},
   "source": [
    "## Decide whether thrombectomy is given\n",
    "\n",
    "similar to thrombolysis but now also account for patients who receive both treatments\n",
    "\n",
    "binomial to decide how many patients will receive the both or either\n",
    "\n",
    "then generate match target props\n",
    "\n",
    "Generate:\n",
    "+ whether each patient with enough time left for MT is chosen for MT\n",
    "\n",
    "Method:\n",
    "+ binomial generator. \n",
    "+ WRITE ME and complicated bits to do with IVT+MT vs IVT not MT and MT not IVT\n",
    "\n",
    "Reference values:\n",
    "+ proportion of patients with enough time left for MT who are chosen for MT"
   ]
  },
  {
   "cell_type": "code",
   "execution_count": 37,
   "id": "105118a4-c0ca-4f02-9bf6-0c7a914f838a",
   "metadata": {},
   "outputs": [
    {
     "data": {
      "text/plain": [
       "'4.7%'"
      ]
     },
     "execution_count": 37,
     "metadata": {},
     "output_type": "execute_result"
    }
   ],
   "source": [
    "f\"{hospital_performance['proportion6_of_mask5_with_treated_mt']:.1%}\""
   ]
  },
  {
   "cell_type": "markdown",
   "id": "d732e482-5fec-4cdf-86e3-1c28f86c55c2",
   "metadata": {},
   "source": [
    "### Patient grid\n",
    "![](./pathway_worked_example/grid_mt_chosen.png)\n",
    "\n",
    "### Check: is this on target?\n",
    "![](./pathway_worked_example/binomial_treated_mt.png)"
   ]
  },
  {
   "cell_type": "markdown",
   "id": "63786a39-ca53-4b5e-99d6-efb4388f957a",
   "metadata": {},
   "source": [
    "## Sample scan to thrombolysis time\n",
    "\n",
    "for only patients who are treated, generate, target proportion\n",
    "\n",
    "Generate:\n",
    "+ separate scan to needle time for each patient who is treated\n",
    "\n",
    "Method:\n",
    "+ lognorm number generator `np.random.lognorm`\n",
    "\n",
    "Reference values:\n",
    "+ For generation: target hospital performance μ and σ for scan to needle times"
   ]
  },
  {
   "cell_type": "code",
   "execution_count": 33,
   "id": "256bad07-b572-43c6-84f4-cf1e7ff0ff47",
   "metadata": {},
   "outputs": [
    {
     "name": "stdout",
     "output_type": "stream",
     "text": [
      "μ 2.794\n",
      "σ 1.099\n"
     ]
    }
   ],
   "source": [
    "print(f\"μ {hospital_performance['lognorm_mu_scan_needle_mins_ivt']:.3f}\")\n",
    "print(f\"σ {hospital_performance['lognorm_sigma_scan_needle_mins_ivt']:.3f}\")"
   ]
  },
  {
   "cell_type": "markdown",
   "id": "55e189d7-c366-4fa0-9f48-e5370d234457",
   "metadata": {},
   "source": [
    "### Generated times\n",
    "![](./pathway_worked_example/time_dist_scan_to_needle.png)\n",
    "\n",
    "### Patient grid\n",
    "![](./pathway_worked_example/grid_scan_to_needle_times.png)"
   ]
  },
  {
   "cell_type": "markdown",
   "id": "9828a327-60c7-48f7-a99a-7228d43d3b51",
   "metadata": {},
   "source": [
    "## Sample scan to thrombectomy time\n",
    "\n",
    "for only patients who are treated, generate, target proportion\n",
    "\n",
    "Generate:\n",
    "+ separate scan to needle time for each patient who is treated\n",
    "\n",
    "Method:\n",
    "+ lognorm number generator `np.random.lognorm`\n",
    "\n",
    "Reference values:\n",
    "+ For generation: target hospital performance μ and σ for scan to puncture times\n"
   ]
  },
  {
   "cell_type": "code",
   "execution_count": 40,
   "id": "10c0f141-9b0d-4624-9fc6-0e56d05491e8",
   "metadata": {},
   "outputs": [
    {
     "name": "stdout",
     "output_type": "stream",
     "text": [
      "μ 4.324\n",
      "σ 1.265\n"
     ]
    }
   ],
   "source": [
    "print(f\"μ {hospital_performance['lognorm_mu_scan_puncture_mins_mt']:.3f}\")\n",
    "print(f\"σ {hospital_performance['lognorm_sigma_scan_puncture_mins_mt']:.3f}\")"
   ]
  },
  {
   "cell_type": "markdown",
   "id": "ea106754-e675-490d-9310-bf1d6961d46b",
   "metadata": {},
   "source": [
    "### Generated times\n",
    "![](./pathway_worked_example/time_dist_scan_to_puncture.png)\n",
    "\n",
    "### Patient grid\n",
    "![](./pathway_worked_example/grid_scan_to_puncture_times.png)"
   ]
  },
  {
   "cell_type": "markdown",
   "id": "6e193c92-eea8-49f7-bb5e-98b654b90db1",
   "metadata": {},
   "source": [
    "# Summary of results"
   ]
  },
  {
   "cell_type": "markdown",
   "id": "e3d57a72-c666-429a-97ee-2fb60cf19129",
   "metadata": {},
   "source": [
    "## Full patient grid\n",
    "\n",
    "![](./pathway_worked_example/grid_summary.png)\n",
    "\n"
   ]
  },
  {
   "cell_type": "markdown",
   "id": "375fbd86-81af-417d-8c9b-09109ee24043",
   "metadata": {},
   "source": [
    "## Sanity check proportions\n",
    "\n",
    "big masky\n",
    "\n",
    "many masks stacking\n",
    "\n",
    "### IVT\n",
    "![](./pathway_worked_example/grid_masks_ivt.png)\n",
    "![](./pathway_worked_example/masks_ivt.png)\n",
    "\n",
    "### MT\n",
    "![](./pathway_worked_example/grid_masks_mt.png)\n",
    "![](./pathway_worked_example/masks_mt.png)"
   ]
  }
 ],
 "metadata": {
  "kernelspec": {
   "display_name": "Python 3 (ipykernel)",
   "language": "python",
   "name": "python3"
  },
  "language_info": {
   "codemirror_mode": {
    "name": "ipython",
    "version": 3
   },
   "file_extension": ".py",
   "mimetype": "text/x-python",
   "name": "python",
   "nbconvert_exporter": "python",
   "pygments_lexer": "ipython3",
   "version": "3.9.16"
  }
 },
 "nbformat": 4,
 "nbformat_minor": 5
}
