{
 "cells": [
  {
   "cell_type": "markdown",
   "id": "99641c17-6714-49d0-9367-5b87d28a15ac",
   "metadata": {},
   "source": [
    "# Reduce size of geojson files\n",
    "\n",
    "When plotting geojson polygons in folium, all of the information in the geojson is stored in the map even though only some of it is needed to produce an accurate image. To reduce the file size and so have faster-loading maps, this notebook does two things to the features in a geojson file:\n",
    "\n",
    "+ Reduce the precision of the coordinates to 6 decimal places (from typically 15, e.g. [-0.099722888517677, 51.5167693121822]).\n",
    "+ Remove any field except coordinates and an identifier, in this case LSOA11CD."
   ]
  },
  {
   "cell_type": "markdown",
   "id": "c00ecfa6-e289-4a6f-96f8-b0e47882f85b",
   "metadata": {},
   "source": [
    "## Setup"
   ]
  },
  {
   "cell_type": "code",
   "execution_count": 26,
   "id": "ea42c921-cfa5-4cd1-acc6-dc988279cc47",
   "metadata": {},
   "outputs": [],
   "source": [
    "# For importing geojson:\n",
    "import json\n",
    "\n",
    "# For saving new geojson:\n",
    "from geojson import FeatureCollection\n",
    "\n",
    "import copy"
   ]
  },
  {
   "cell_type": "markdown",
   "id": "babfd47e-3df0-414d-8d87-5c70fa5c85c2",
   "metadata": {},
   "source": [
    "## Import the geojson"
   ]
  },
  {
   "cell_type": "code",
   "execution_count": 17,
   "id": "f8c7dcb1-b60e-4b73-a8b3-efaeb7df60e7",
   "metadata": {},
   "outputs": [],
   "source": [
    "with open('./LSOA_(Dec_2011)_Boundaries_Super_Generalised_Clipped_(BSC)_EW_V3.geojson') as f:\n",
    "    geojson_ew = json.load(f)"
   ]
  },
  {
   "cell_type": "markdown",
   "id": "6dbb2c56-062f-42a8-9a9a-d3ce663d72cd",
   "metadata": {},
   "source": [
    "Check which fields are stored in the geojson:"
   ]
  },
  {
   "cell_type": "code",
   "execution_count": 18,
   "id": "e8d3f5fc-82e2-4d42-8546-e21a0170d793",
   "metadata": {},
   "outputs": [
    {
     "data": {
      "text/plain": [
       "dict_keys(['type', 'name', 'crs', 'features'])"
      ]
     },
     "execution_count": 18,
     "metadata": {},
     "output_type": "execute_result"
    }
   ],
   "source": [
    "geojson_ew.keys()"
   ]
  },
  {
   "cell_type": "code",
   "execution_count": 19,
   "id": "2367655f-cca8-47bd-8c7a-2bdba8afb31c",
   "metadata": {},
   "outputs": [
    {
     "data": {
      "text/plain": [
       "'FeatureCollection'"
      ]
     },
     "execution_count": 19,
     "metadata": {},
     "output_type": "execute_result"
    }
   ],
   "source": [
    "geojson_ew['type']"
   ]
  },
  {
   "cell_type": "code",
   "execution_count": 20,
   "id": "5b53a2d9-0cda-408c-9da6-aaad5ee050cd",
   "metadata": {},
   "outputs": [
    {
     "data": {
      "text/plain": [
       "'LSOA_(Dec_2011)_Boundaries_Super_Generalised_Clipped_(BSC)_EW_V3'"
      ]
     },
     "execution_count": 20,
     "metadata": {},
     "output_type": "execute_result"
    }
   ],
   "source": [
    "geojson_ew['name']"
   ]
  },
  {
   "cell_type": "code",
   "execution_count": 21,
   "id": "341b060b-712c-4155-b0bb-091ebcc0f9e0",
   "metadata": {},
   "outputs": [
    {
     "data": {
      "text/plain": [
       "{'type': 'name', 'properties': {'name': 'urn:ogc:def:crs:OGC:1.3:CRS84'}}"
      ]
     },
     "execution_count": 21,
     "metadata": {},
     "output_type": "execute_result"
    }
   ],
   "source": [
    "geojson_ew['crs']"
   ]
  },
  {
   "cell_type": "markdown",
   "id": "6ededf36-fbfb-41a3-85c1-60f649a25d83",
   "metadata": {},
   "source": [
    "The above fields can remain as they are necessary and/or don't take up much space. The data we'll cut is anything extraneous in the features. Have a look at the first feature:"
   ]
  },
  {
   "cell_type": "code",
   "execution_count": 22,
   "id": "9c50619e-1b3e-42d2-adb8-a2d6a4c13a0e",
   "metadata": {},
   "outputs": [
    {
     "data": {
      "text/plain": [
       "{'type': 'Feature',\n",
       " 'properties': {'OBJECTID': 1,\n",
       "  'LSOA11CD': 'E01000001',\n",
       "  'LSOA11NM': 'City of London 001A',\n",
       "  'LSOA11NMW': 'City of London 001A',\n",
       "  'BNG_E': 532129,\n",
       "  'BNG_N': 181625,\n",
       "  'LONG': -0.09706,\n",
       "  'LAT': 51.5181,\n",
       "  'Shape__Area': 157794.481079102,\n",
       "  'Shape__Length': 1685.39177789522,\n",
       "  'GlobalID': 'b12173a3-5423-4672-a5eb-f152d2345f96'},\n",
       " 'geometry': {'type': 'Polygon',\n",
       "  'coordinates': [[[-0.094744468765127, 51.5205961026855],\n",
       "    [-0.095455174414778, 51.5154416842748],\n",
       "    [-0.099722888517677, 51.5167693121822],\n",
       "    [-0.098498304750799, 51.5205398973512],\n",
       "    [-0.097265555652221, 51.5215848107683],\n",
       "    [-0.094744468765127, 51.5205961026855]]]}}"
      ]
     },
     "execution_count": 22,
     "metadata": {},
     "output_type": "execute_result"
    }
   ],
   "source": [
    "geojson_ew['features'][0]"
   ]
  },
  {
   "cell_type": "markdown",
   "id": "4fa61ef6-002c-42bd-ac50-bb5926effc7f",
   "metadata": {},
   "source": [
    "We must retain the `type`, `properties` and `geometry` fields but can reduce the content within them. \n",
    "\n",
    "+ From properties, we only need to keep one identifier so we'll keep `LSOA11CD` and ditch the rest. \n",
    "+ From coordinates, we don't need as much precision as that so we'll round all values to six decimal places."
   ]
  },
  {
   "cell_type": "code",
   "execution_count": 40,
   "id": "8e559ac8-3b22-4292-b650-ec0f36626667",
   "metadata": {},
   "outputs": [],
   "source": [
    "geojson_new = copy.deepcopy(geojson_ew)"
   ]
  },
  {
   "cell_type": "code",
   "execution_count": 41,
   "id": "66493e38-d784-477c-81f1-33968c7672d9",
   "metadata": {},
   "outputs": [],
   "source": [
    "for f, feature in enumerate(geojson_new['features']):\n",
    "    new_properties = {'LSOA11CD': feature['properties']['LSOA11CD']}\n",
    "        \n",
    "    # Get lists of coordinates, one list per separate polygon\n",
    "    # in the LSOA.\n",
    "    # (Have MultiPolygon e.g. when an LSOA on the mainland coastline\n",
    "    # also contains an island, so there's a gap between areas.)\n",
    "    lists_of_polygon_coordinates = feature['geometry']['coordinates']\n",
    "\n",
    "    new_coords = []\n",
    "    for lc, list_of_coords in enumerate(lists_of_polygon_coordinates):\n",
    "        if feature['geometry']['type'] == 'MultiPolygon':\n",
    "            # For MultiPolygons the coords are nested an extra time.\n",
    "            list_of_coords = list_of_coords[0]\n",
    "        new_coords_here = [\n",
    "            [round(coords[0], 4), round(coords[1], 4)]\n",
    "            for coords in list_of_coords\n",
    "        ]\n",
    "        if feature['geometry']['type'] == 'MultiPolygon':\n",
    "            # For MultiPolygons the coords are nested an extra time.\n",
    "            new_coords_here = [new_coords_here]\n",
    "\n",
    "        new_coords.append(new_coords_here)\n",
    "\n",
    "    # Overwrite the old data with the new:\n",
    "    geojson_new['features'][f]['properties'] = new_properties\n",
    "    geojson_new['features'][f]['geometry']['coordinates'] = new_coords"
   ]
  },
  {
   "cell_type": "code",
   "execution_count": 42,
   "id": "3069083a-6198-47fa-b600-2c56e46c7825",
   "metadata": {},
   "outputs": [
    {
     "data": {
      "text/plain": [
       "{'type': 'Feature',\n",
       " 'properties': {'LSOA11CD': 'E01000001'},\n",
       " 'geometry': {'type': 'Polygon',\n",
       "  'coordinates': [[[-0.0947, 51.5206],\n",
       "    [-0.0955, 51.5154],\n",
       "    [-0.0997, 51.5168],\n",
       "    [-0.0985, 51.5205],\n",
       "    [-0.0973, 51.5216],\n",
       "    [-0.0947, 51.5206]]]}}"
      ]
     },
     "execution_count": 42,
     "metadata": {},
     "output_type": "execute_result"
    }
   ],
   "source": [
    "geojson_new['features'][0]"
   ]
  },
  {
   "cell_type": "markdown",
   "id": "cc13adda-748d-4021-b3f6-eb4758a78899",
   "metadata": {},
   "source": [
    "Write new geojson to file:"
   ]
  },
  {
   "cell_type": "code",
   "execution_count": 43,
   "id": "ace8bc03-8eb2-44c8-91c0-e3c16d13f8cd",
   "metadata": {},
   "outputs": [],
   "source": [
    "# Save as a .geojson:\n",
    "save_name = 'LSOA_(Dec_2011)_Boundaries_Super_Generalised_Clipped_(BSC)_EW_V3_reduced2.geojson'\n",
    "with open('./'+save_name, 'w', encoding='utf-8') as f:\n",
    "    json.dump(geojson_new, f, ensure_ascii=False)"
   ]
  },
  {
   "cell_type": "markdown",
   "id": "6aa3e03d-4acb-4900-a517-e133997aaf41",
   "metadata": {},
   "source": [
    "# Reduce size of hospital coordinates"
   ]
  },
  {
   "cell_type": "code",
   "execution_count": 44,
   "id": "064743e6-12fc-4a56-bd0f-0b3de8f334e7",
   "metadata": {},
   "outputs": [],
   "source": [
    "import pandas as pd"
   ]
  },
  {
   "cell_type": "code",
   "execution_count": 47,
   "id": "11e1a93f-6c1c-4c47-b5d7-eb8153726ef7",
   "metadata": {},
   "outputs": [
    {
     "data": {
      "text/html": [
       "<div>\n",
       "<style scoped>\n",
       "    .dataframe tbody tr th:only-of-type {\n",
       "        vertical-align: middle;\n",
       "    }\n",
       "\n",
       "    .dataframe tbody tr th {\n",
       "        vertical-align: top;\n",
       "    }\n",
       "\n",
       "    .dataframe thead th {\n",
       "        text-align: right;\n",
       "    }\n",
       "</style>\n",
       "<table border=\"1\" class=\"dataframe\">\n",
       "  <thead>\n",
       "    <tr style=\"text-align: right;\">\n",
       "      <th></th>\n",
       "      <th>Postcode</th>\n",
       "      <th>Hospital_name</th>\n",
       "      <th>Use_IVT</th>\n",
       "      <th>Use_MT</th>\n",
       "      <th>Use_MSU</th>\n",
       "      <th>Country</th>\n",
       "      <th>Strategic Clinical Network</th>\n",
       "      <th>Health Board / Trust</th>\n",
       "      <th>Stroke Team</th>\n",
       "      <th>SSNAP name</th>\n",
       "      <th>...</th>\n",
       "      <th>Thrombolysis</th>\n",
       "      <th>ivt_rate</th>\n",
       "      <th>Easting</th>\n",
       "      <th>Northing</th>\n",
       "      <th>long</th>\n",
       "      <th>lat</th>\n",
       "      <th>Neuroscience</th>\n",
       "      <th>30 England Thrombectomy Example</th>\n",
       "      <th>hospital_city</th>\n",
       "      <th>Notes</th>\n",
       "    </tr>\n",
       "  </thead>\n",
       "  <tbody>\n",
       "    <tr>\n",
       "      <th>0</th>\n",
       "      <td>RM70AG</td>\n",
       "      <td>RM70AG</td>\n",
       "      <td>1</td>\n",
       "      <td>1</td>\n",
       "      <td>1</td>\n",
       "      <td>England</td>\n",
       "      <td>London SCN</td>\n",
       "      <td>Barking</td>\n",
       "      <td>Havering and Redbridge University Hospitals N...</td>\n",
       "      <td>Queens Hospital Romford HASU</td>\n",
       "      <td>...</td>\n",
       "      <td>117</td>\n",
       "      <td>11.9</td>\n",
       "      <td>551118</td>\n",
       "      <td>187780</td>\n",
       "      <td>0.179031</td>\n",
       "      <td>51.568647</td>\n",
       "      <td>1</td>\n",
       "      <td>0</td>\n",
       "      <td>Romford</td>\n",
       "      <td>NaN</td>\n",
       "    </tr>\n",
       "    <tr>\n",
       "      <th>1</th>\n",
       "      <td>E11BB</td>\n",
       "      <td>E11BB</td>\n",
       "      <td>1</td>\n",
       "      <td>1</td>\n",
       "      <td>1</td>\n",
       "      <td>England</td>\n",
       "      <td>London SCN</td>\n",
       "      <td>Barts Health NHS Trust</td>\n",
       "      <td>The Royal London Hospital</td>\n",
       "      <td>Royal London Hospital HASU</td>\n",
       "      <td>...</td>\n",
       "      <td>115</td>\n",
       "      <td>13.4</td>\n",
       "      <td>534829</td>\n",
       "      <td>181798</td>\n",
       "      <td>-0.058133</td>\n",
       "      <td>51.519018</td>\n",
       "      <td>1</td>\n",
       "      <td>1</td>\n",
       "      <td>Royal London</td>\n",
       "      <td>NaN</td>\n",
       "    </tr>\n",
       "    <tr>\n",
       "      <th>2</th>\n",
       "      <td>SW66SX</td>\n",
       "      <td>SW66SX</td>\n",
       "      <td>1</td>\n",
       "      <td>1</td>\n",
       "      <td>1</td>\n",
       "      <td>England</td>\n",
       "      <td>London SCN</td>\n",
       "      <td>Imperial College Healthcare NHS Trust</td>\n",
       "      <td>Charing Cross Hospital, London</td>\n",
       "      <td>Charing Cross Hospital HASU</td>\n",
       "      <td>...</td>\n",
       "      <td>113</td>\n",
       "      <td>9.9</td>\n",
       "      <td>524226</td>\n",
       "      <td>176487</td>\n",
       "      <td>-0.212736</td>\n",
       "      <td>51.473717</td>\n",
       "      <td>1</td>\n",
       "      <td>1</td>\n",
       "      <td>Charing Cross</td>\n",
       "      <td>NaN</td>\n",
       "    </tr>\n",
       "    <tr>\n",
       "      <th>3</th>\n",
       "      <td>SE59RW</td>\n",
       "      <td>SE59RW</td>\n",
       "      <td>1</td>\n",
       "      <td>1</td>\n",
       "      <td>1</td>\n",
       "      <td>England</td>\n",
       "      <td>London SCN</td>\n",
       "      <td>King's College Hospital NHS Foundation Trust</td>\n",
       "      <td>King's College Hospital, London</td>\n",
       "      <td>King's College Hospital HASU</td>\n",
       "      <td>...</td>\n",
       "      <td>124</td>\n",
       "      <td>15.0</td>\n",
       "      <td>532536</td>\n",
       "      <td>176228</td>\n",
       "      <td>-0.093251</td>\n",
       "      <td>51.469505</td>\n",
       "      <td>1</td>\n",
       "      <td>0</td>\n",
       "      <td>Kings College</td>\n",
       "      <td>NaN</td>\n",
       "    </tr>\n",
       "    <tr>\n",
       "      <th>4</th>\n",
       "      <td>BR68ND</td>\n",
       "      <td>BR68ND</td>\n",
       "      <td>1</td>\n",
       "      <td>0</td>\n",
       "      <td>0</td>\n",
       "      <td>England</td>\n",
       "      <td>London SCN</td>\n",
       "      <td>King's College Hospital NHS Foundation Trust</td>\n",
       "      <td>Princess Royal University Hospital</td>\n",
       "      <td>Princess Royal University Hospital HASU</td>\n",
       "      <td>...</td>\n",
       "      <td>113</td>\n",
       "      <td>13.3</td>\n",
       "      <td>543443</td>\n",
       "      <td>165032</td>\n",
       "      <td>0.059146</td>\n",
       "      <td>51.366243</td>\n",
       "      <td>0</td>\n",
       "      <td>0</td>\n",
       "      <td>Princess Royal</td>\n",
       "      <td>NaN</td>\n",
       "    </tr>\n",
       "  </tbody>\n",
       "</table>\n",
       "<p>5 rows × 21 columns</p>\n",
       "</div>"
      ],
      "text/plain": [
       "  Postcode Hospital_name  Use_IVT  Use_MT  Use_MSU  Country  \\\n",
       "0   RM70AG        RM70AG        1       1        1  England   \n",
       "1    E11BB         E11BB        1       1        1  England   \n",
       "2   SW66SX        SW66SX        1       1        1  England   \n",
       "3   SE59RW        SE59RW        1       1        1  England   \n",
       "4   BR68ND        BR68ND        1       0        0  England   \n",
       "\n",
       "  Strategic Clinical Network                          Health Board / Trust  \\\n",
       "0                 London SCN                                       Barking   \n",
       "1                 London SCN                        Barts Health NHS Trust   \n",
       "2                 London SCN         Imperial College Healthcare NHS Trust   \n",
       "3                 London SCN  King's College Hospital NHS Foundation Trust   \n",
       "4                 London SCN  King's College Hospital NHS Foundation Trust   \n",
       "\n",
       "                                         Stroke Team  \\\n",
       "0   Havering and Redbridge University Hospitals N...   \n",
       "1                          The Royal London Hospital   \n",
       "2                     Charing Cross Hospital, London   \n",
       "3                    King's College Hospital, London   \n",
       "4                 Princess Royal University Hospital   \n",
       "\n",
       "                                SSNAP name  ...  Thrombolysis  ivt_rate  \\\n",
       "0             Queens Hospital Romford HASU  ...           117      11.9   \n",
       "1               Royal London Hospital HASU  ...           115      13.4   \n",
       "2              Charing Cross Hospital HASU  ...           113       9.9   \n",
       "3             King's College Hospital HASU  ...           124      15.0   \n",
       "4  Princess Royal University Hospital HASU  ...           113      13.3   \n",
       "\n",
       "   Easting  Northing      long        lat  Neuroscience  \\\n",
       "0   551118    187780  0.179031  51.568647             1   \n",
       "1   534829    181798 -0.058133  51.519018             1   \n",
       "2   524226    176487 -0.212736  51.473717             1   \n",
       "3   532536    176228 -0.093251  51.469505             1   \n",
       "4   543443    165032  0.059146  51.366243             0   \n",
       "\n",
       "   30 England Thrombectomy Example   hospital_city Notes  \n",
       "0                                0         Romford   NaN  \n",
       "1                                1    Royal London   NaN  \n",
       "2                                1   Charing Cross   NaN  \n",
       "3                                0   Kings College   NaN  \n",
       "4                                0  Princess Royal   NaN  \n",
       "\n",
       "[5 rows x 21 columns]"
      ]
     },
     "execution_count": 47,
     "metadata": {},
     "output_type": "execute_result"
    }
   ],
   "source": [
    "df_hospitals = pd.read_csv(\"./stroke_hospitals_2022.csv\")\n",
    "\n",
    "df_hospitals.head()"
   ]
  },
  {
   "cell_type": "code",
   "execution_count": 50,
   "id": "2649a3d1-3951-41c1-b574-2f304b135ad2",
   "metadata": {},
   "outputs": [],
   "source": [
    "df_hospitals['long'] = df_hospitals['long'].round(4)\n",
    "df_hospitals['lat'] = df_hospitals['lat'].round(4)"
   ]
  },
  {
   "cell_type": "code",
   "execution_count": 51,
   "id": "32ef6132-3394-4388-a919-110909073a65",
   "metadata": {},
   "outputs": [],
   "source": [
    "df_hospitals.to_csv('stroke_hospitals_22_reduced.csv', index=False)"
   ]
  },
  {
   "cell_type": "code",
   "execution_count": null,
   "id": "2900a369-5aa5-4fca-9026-8d27b81a0fc7",
   "metadata": {},
   "outputs": [],
   "source": []
  }
 ],
 "metadata": {
  "kernelspec": {
   "display_name": "Python 3 (ipykernel)",
   "language": "python",
   "name": "python3"
  },
  "language_info": {
   "codemirror_mode": {
    "name": "ipython",
    "version": 3
   },
   "file_extension": ".py",
   "mimetype": "text/x-python",
   "name": "python",
   "nbconvert_exporter": "python",
   "pygments_lexer": "ipython3",
   "version": "3.9.16"
  }
 },
 "nbformat": 4,
 "nbformat_minor": 5
}
